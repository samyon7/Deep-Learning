{
  "nbformat": 4,
  "nbformat_minor": 0,
  "metadata": {
    "colab": {
      "name": "Deploy_ML_Web_With_Ngrok_Kill.ipynb",
      "provenance": []
    },
    "kernelspec": {
      "name": "python3",
      "display_name": "Python 3"
    }
  },
  "cells": [
    {
      "cell_type": "code",
      "metadata": {
        "colab": {
          "base_uri": "https://localhost:8080/",
          "height": 649
        },
        "id": "UvtyVspTBfNI",
        "outputId": "9816af26-2eff-453d-f135-45892373cdd9"
      },
      "source": [
        "!pip install -U ipykernel"
      ],
      "execution_count": 1,
      "outputs": [
        {
          "output_type": "stream",
          "text": [
            "Collecting ipykernel\n",
            "\u001b[?25l  Downloading https://files.pythonhosted.org/packages/7d/cc/e8908bbb2921732f6851ebbbe4b77b925aab62e644ab9402f21c84fa6107/ipykernel-5.4.3-py3-none-any.whl (120kB)\n",
            "\r\u001b[K     |██▊                             | 10kB 17.4MB/s eta 0:00:01\r\u001b[K     |█████▌                          | 20kB 21.1MB/s eta 0:00:01\r\u001b[K     |████████▏                       | 30kB 13.4MB/s eta 0:00:01\r\u001b[K     |███████████                     | 40kB 10.7MB/s eta 0:00:01\r\u001b[K     |█████████████▋                  | 51kB 9.7MB/s eta 0:00:01\r\u001b[K     |████████████████▍               | 61kB 8.6MB/s eta 0:00:01\r\u001b[K     |███████████████████             | 71kB 8.3MB/s eta 0:00:01\r\u001b[K     |█████████████████████▉          | 81kB 9.1MB/s eta 0:00:01\r\u001b[K     |████████████████████████▋       | 92kB 8.9MB/s eta 0:00:01\r\u001b[K     |███████████████████████████▎    | 102kB 9.0MB/s eta 0:00:01\r\u001b[K     |██████████████████████████████  | 112kB 9.0MB/s eta 0:00:01\r\u001b[K     |████████████████████████████████| 122kB 9.0MB/s \n",
            "\u001b[?25hRequirement already satisfied, skipping upgrade: jupyter-client in /usr/local/lib/python3.6/dist-packages (from ipykernel) (5.3.5)\n",
            "Requirement already satisfied, skipping upgrade: ipython>=5.0.0 in /usr/local/lib/python3.6/dist-packages (from ipykernel) (5.5.0)\n",
            "Requirement already satisfied, skipping upgrade: tornado>=4.2 in /usr/local/lib/python3.6/dist-packages (from ipykernel) (5.1.1)\n",
            "Requirement already satisfied, skipping upgrade: traitlets>=4.1.0 in /usr/local/lib/python3.6/dist-packages (from ipykernel) (4.3.3)\n",
            "Requirement already satisfied, skipping upgrade: jupyter-core>=4.6.0 in /usr/local/lib/python3.6/dist-packages (from jupyter-client->ipykernel) (4.7.0)\n",
            "Requirement already satisfied, skipping upgrade: python-dateutil>=2.1 in /usr/local/lib/python3.6/dist-packages (from jupyter-client->ipykernel) (2.8.1)\n",
            "Requirement already satisfied, skipping upgrade: pyzmq>=13 in /usr/local/lib/python3.6/dist-packages (from jupyter-client->ipykernel) (20.0.0)\n",
            "Requirement already satisfied, skipping upgrade: pygments in /usr/local/lib/python3.6/dist-packages (from ipython>=5.0.0->ipykernel) (2.6.1)\n",
            "Requirement already satisfied, skipping upgrade: prompt-toolkit<2.0.0,>=1.0.4 in /usr/local/lib/python3.6/dist-packages (from ipython>=5.0.0->ipykernel) (1.0.18)\n",
            "Requirement already satisfied, skipping upgrade: setuptools>=18.5 in /usr/local/lib/python3.6/dist-packages (from ipython>=5.0.0->ipykernel) (51.3.3)\n",
            "Requirement already satisfied, skipping upgrade: simplegeneric>0.8 in /usr/local/lib/python3.6/dist-packages (from ipython>=5.0.0->ipykernel) (0.8.1)\n",
            "Requirement already satisfied, skipping upgrade: decorator in /usr/local/lib/python3.6/dist-packages (from ipython>=5.0.0->ipykernel) (4.4.2)\n",
            "Requirement already satisfied, skipping upgrade: pickleshare in /usr/local/lib/python3.6/dist-packages (from ipython>=5.0.0->ipykernel) (0.7.5)\n",
            "Requirement already satisfied, skipping upgrade: pexpect; sys_platform != \"win32\" in /usr/local/lib/python3.6/dist-packages (from ipython>=5.0.0->ipykernel) (4.8.0)\n",
            "Requirement already satisfied, skipping upgrade: ipython-genutils in /usr/local/lib/python3.6/dist-packages (from traitlets>=4.1.0->ipykernel) (0.2.0)\n",
            "Requirement already satisfied, skipping upgrade: six in /usr/local/lib/python3.6/dist-packages (from traitlets>=4.1.0->ipykernel) (1.15.0)\n",
            "Requirement already satisfied, skipping upgrade: wcwidth in /usr/local/lib/python3.6/dist-packages (from prompt-toolkit<2.0.0,>=1.0.4->ipython>=5.0.0->ipykernel) (0.2.5)\n",
            "Requirement already satisfied, skipping upgrade: ptyprocess>=0.5 in /usr/local/lib/python3.6/dist-packages (from pexpect; sys_platform != \"win32\"->ipython>=5.0.0->ipykernel) (0.7.0)\n",
            "\u001b[31mERROR: google-colab 1.0.0 has requirement ipykernel~=4.10, but you'll have ipykernel 5.4.3 which is incompatible.\u001b[0m\n",
            "Installing collected packages: ipykernel\n",
            "  Found existing installation: ipykernel 4.10.1\n",
            "    Uninstalling ipykernel-4.10.1:\n",
            "      Successfully uninstalled ipykernel-4.10.1\n",
            "Successfully installed ipykernel-5.4.3\n"
          ],
          "name": "stdout"
        },
        {
          "output_type": "display_data",
          "data": {
            "application/vnd.colab-display-data+json": {
              "pip_warning": {
                "packages": [
                  "ipykernel"
                ]
              }
            }
          },
          "metadata": {
            "tags": []
          }
        }
      ]
    },
    {
      "cell_type": "code",
      "metadata": {
        "colab": {
          "base_uri": "https://localhost:8080/"
        },
        "id": "N6Sm9_ISBmvp",
        "outputId": "0b79f201-c41b-40e9-a291-64d2f8570618"
      },
      "source": [
        "!pip install -q streamlit"
      ],
      "execution_count": 2,
      "outputs": [
        {
          "output_type": "stream",
          "text": [
            "\u001b[K     |████████████████████████████████| 7.5MB 7.8MB/s \n",
            "\u001b[K     |████████████████████████████████| 163kB 42.4MB/s \n",
            "\u001b[K     |████████████████████████████████| 81kB 6.4MB/s \n",
            "\u001b[K     |████████████████████████████████| 112kB 45.3MB/s \n",
            "\u001b[K     |████████████████████████████████| 4.5MB 39.4MB/s \n",
            "\u001b[K     |████████████████████████████████| 71kB 5.9MB/s \n",
            "\u001b[?25h  Building wheel for blinker (setup.py) ... \u001b[?25l\u001b[?25hdone\n"
          ],
          "name": "stdout"
        }
      ]
    },
    {
      "cell_type": "code",
      "metadata": {
        "colab": {
          "base_uri": "https://localhost:8080/"
        },
        "id": "woSy9hwtCEdE",
        "outputId": "93d8f05f-bb0d-488d-a12c-94e6d28de1b2"
      },
      "source": [
        "!pip install pyngrok==4.1.1 # Must use this"
      ],
      "execution_count": 3,
      "outputs": [
        {
          "output_type": "stream",
          "text": [
            "Collecting pyngrok==4.1.1\n",
            "  Downloading https://files.pythonhosted.org/packages/e4/a9/de2e15c92eb3aa4a2646ce3a7542317eb69ac47f667578ce8bf916320847/pyngrok-4.1.1.tar.gz\n",
            "Requirement already satisfied: future in /usr/local/lib/python3.6/dist-packages (from pyngrok==4.1.1) (0.16.0)\n",
            "Requirement already satisfied: PyYAML in /usr/local/lib/python3.6/dist-packages (from pyngrok==4.1.1) (3.13)\n",
            "Building wheels for collected packages: pyngrok\n",
            "  Building wheel for pyngrok (setup.py) ... \u001b[?25l\u001b[?25hdone\n",
            "  Created wheel for pyngrok: filename=pyngrok-4.1.1-cp36-none-any.whl size=15971 sha256=ca9d048c82d1a3de34474e44298b80b902e9b281650ff65e2cb55ef59ff85a47\n",
            "  Stored in directory: /root/.cache/pip/wheels/97/71/0d/1695f7c8815c0beb3b5d9b35d6eec9243c87e6070fbe3977fa\n",
            "Successfully built pyngrok\n",
            "Installing collected packages: pyngrok\n",
            "Successfully installed pyngrok-4.1.1\n"
          ],
          "name": "stdout"
        }
      ]
    },
    {
      "cell_type": "code",
      "metadata": {
        "colab": {
          "base_uri": "https://localhost:8080/"
        },
        "id": "cjtei12ZCFf3",
        "outputId": "0c93f38d-5aa0-4b48-c1ff-e806115fe8d6"
      },
      "source": [
        "!ngrok authtoken 1nK1D7A0UT5ifnFLCBfuqSSZ7Q5_6jNNjUbc28dBSusceERqM"
      ],
      "execution_count": 4,
      "outputs": [
        {
          "output_type": "stream",
          "text": [
            "Authtoken saved to configuration file: /root/.ngrok2/ngrok.yml\n"
          ],
          "name": "stdout"
        }
      ]
    },
    {
      "cell_type": "code",
      "metadata": {
        "colab": {
          "base_uri": "https://localhost:8080/"
        },
        "id": "wJtEKEIUCHK1",
        "outputId": "b86f8c75-91c2-43ad-d818-91b86e92eee0"
      },
      "source": [
        "%%writefile score.py\r\n",
        "\r\n",
        "import matplotlib.pyplot as plt\r\n",
        "import numpy as np\r\n",
        "import os\r\n",
        "import PIL\r\n",
        "import tensorflow as tf\r\n",
        "import streamlit as st \r\n",
        "import requests\r\n",
        "import io\r\n",
        "\r\n",
        "from tensorflow import keras\r\n",
        "from tensorflow.keras import layers\r\n",
        "from tensorflow.keras.models import Sequential\r\n",
        "\r\n",
        "st.set_option('deprecation.showfileUploaderEncoding', False)\r\n",
        "@st.cache(allow_output_mutation=True)\r\n",
        "def load_model ():\r\n",
        "    model=tf.keras.models.load_model('/content/drive/MyDrive/MyPrivate_MachineLearning/Deploy_Web/African_Wildlife_(160)(160).h5')\r\n",
        "    return model\r\n",
        "model=load_model()\r\n",
        "st.write(\"\"\"\r\n",
        "         African Wildlife (AUTHOR BY : HAMORA HADI)\r\n",
        "         \"\"\"\r\n",
        ")\r\n",
        "\r\n",
        "file = st.file_uploader(\"Please upload image of a buffalo, elephant, rhino, or zebra image!\", type=[\"jpg\",\"png\"])\r\n",
        "import cv2\r\n",
        "from PIL import Image, ImageOps\r\n",
        "import numpy as np \r\n",
        "def import_and_predict(image_data, model):\r\n",
        "\r\n",
        "    size = (160,160) # Based Target Size that trained before\r\n",
        "    image = ImageOps.fit(image_data, size, Image.ANTIALIAS)\r\n",
        "    img = np.asarray(image)\r\n",
        "    img_reshape = img[np.newaxis,...]\r\n",
        "    prediction = model.predict(img_reshape)\r\n",
        "\r\n",
        "    return prediction\r\n",
        "if file is None:\r\n",
        "    st.text(\"Please upload an image file\")\r\n",
        "else: \r\n",
        "    image = Image.open(file)\r\n",
        "    st.image(image, use_column_width=True)\r\n",
        "    predictions = import_and_predict(image, model)\r\n",
        "    class_names=['Buffalo', 'Elephant','Rhino','Zebra']\r\n",
        "    string=\"This image most likely is: \"+class_names[np.argmax(predictions)]\r\n",
        "    st.write(string)"
      ],
      "execution_count": 5,
      "outputs": [
        {
          "output_type": "stream",
          "text": [
            "Writing score.py\n"
          ],
          "name": "stdout"
        }
      ]
    },
    {
      "cell_type": "code",
      "metadata": {
        "colab": {
          "base_uri": "https://localhost:8080/"
        },
        "id": "rv7WmkYdCTOv",
        "outputId": "fbe60fad-c1af-442f-fb41-88cb35351f22"
      },
      "source": [
        "!nohup streamlit run score.py &"
      ],
      "execution_count": 6,
      "outputs": [
        {
          "output_type": "stream",
          "text": [
            "nohup: appending output to 'nohup.out'\n"
          ],
          "name": "stdout"
        }
      ]
    },
    {
      "cell_type": "code",
      "metadata": {
        "id": "-oE6h2QvCU6k",
        "colab": {
          "base_uri": "https://localhost:8080/",
          "height": 35
        },
        "outputId": "c6c040a7-7b7e-4363-de32-95767813feed"
      },
      "source": [
        "from pyngrok import ngrok\r\n",
        "\r\n",
        "url = ngrok.connect(port=8501)\r\n",
        "url"
      ],
      "execution_count": 7,
      "outputs": [
        {
          "output_type": "execute_result",
          "data": {
            "application/vnd.google.colaboratory.intrinsic+json": {
              "type": "string"
            },
            "text/plain": [
              "'http://918a268ad7c6.ngrok.io'"
            ]
          },
          "metadata": {
            "tags": []
          },
          "execution_count": 7
        }
      ]
    },
    {
      "cell_type": "code",
      "metadata": {
        "id": "1H2rSaeSCWXe"
      },
      "source": [
        "ngrok.kill()"
      ],
      "execution_count": 8,
      "outputs": []
    },
    {
      "cell_type": "code",
      "metadata": {
        "id": "zal2BYRH9vRt"
      },
      "source": [
        ""
      ],
      "execution_count": null,
      "outputs": []
    }
  ]
}